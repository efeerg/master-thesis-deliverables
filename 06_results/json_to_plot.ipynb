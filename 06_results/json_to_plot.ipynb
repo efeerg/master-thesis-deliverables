{
 "cells": [
  {
   "cell_type": "markdown",
   "metadata": {},
   "source": [
    "# Result plots"
   ]
  },
  {
   "cell_type": "code",
   "execution_count": 11,
   "metadata": {},
   "outputs": [],
   "source": [
    "import json\n",
    "import numpy as np\n",
    "import matplotlib.pyplot as plt\n",
    "import seaborn as sns\n",
    "import os"
   ]
  },
  {
   "cell_type": "code",
   "execution_count": 13,
   "metadata": {},
   "outputs": [
    {
     "name": "stdout",
     "output_type": "stream",
     "text": [
      "3D Model NumPy Array: (18, 2, 3)\n",
      "balanced_10 : 0\n",
      "balanced_100 : 1\n",
      "balanced_150 : 2\n",
      "balanced_50 : 3\n",
      "hybrid_1 : 4\n",
      "hybrid_4 : 5\n",
      "hybrid_9 : 6\n",
      "split_12_12 : 7\n",
      "split_18_6 : 8\n",
      "split_6_6 : 9\n",
      "split_6_9 : 10\n",
      "split_9_3 : 11\n",
      "split_9_6 : 12\n",
      "unbalanced_10 : 13\n",
      "unbalanced_100 : 14\n",
      "unbalanced_25 : 15\n",
      "unbalanced_5 : 16\n",
      "unbalanced_50 : 17\n"
     ]
    }
   ],
   "source": [
    "def create_3d_numpy_array_with_folder_mapping(base_directory):\n",
    "    # Define configurations, learning methods, and folders\n",
    "    configurations = ['multi-step-ahead-direct', 'multi-step-ahead-iterative', 'single-step-ahead']\n",
    "    learning_methods = ['LSTM', 'RandomForest']\n",
    "\n",
    "    # Scan the base directory for folders (Z-axis)\n",
    "    folders = sorted([f for f in os.listdir(base_directory) if os.path.isdir(os.path.join(base_directory, f))])\n",
    "\n",
    "    # Initialize the 3D array (Python list first)\n",
    "    model_3d_array = [[[None for _ in configurations] for _ in learning_methods] for _ in folders]\n",
    "    folder_mapping = {}\n",
    "\n",
    "    # Function to load JSON file\n",
    "    def load_json_file(filepath):\n",
    "        with open(filepath, 'r') as file:\n",
    "            return json.load(file)\n",
    "\n",
    "    # Iterate over the folders (Z-axis)\n",
    "    for z_idx, folder in enumerate(folders):\n",
    "        folder_path = os.path.join(base_directory, folder)\n",
    "\n",
    "        # Map folder name to Z-axis index\n",
    "        folder_mapping[folder] = z_idx\n",
    "\n",
    "        # Iterate over the files in each folder\n",
    "        for filename in os.listdir(folder_path):\n",
    "            if filename.endswith(\".json\"):\n",
    "                # Determine the model type (LSTM or RandomForest) from the filename\n",
    "                if \"LSTM\" in filename:\n",
    "                    y_idx = 0  # LSTM corresponds to Y-axis index 0\n",
    "                elif \"RandomForest\" in filename:\n",
    "                    y_idx = 1  # RandomForest corresponds to Y-axis index 1\n",
    "                else:\n",
    "                    continue  # Skip files that don't match the model types\n",
    "\n",
    "                # Determine the configuration type (X-axis index)\n",
    "                if \"multi-step-ahead-direct\" in filename:\n",
    "                    x_idx = 0\n",
    "                elif \"multi-step-ahead-iterative\" in filename:\n",
    "                    x_idx = 1\n",
    "                elif \"single-step-ahead\" in filename:\n",
    "                    x_idx = 2\n",
    "                else:\n",
    "                    continue  # Skip files that don't match the configuration types\n",
    "\n",
    "                # Load the JSON data and store it in the 3D array\n",
    "                filepath = os.path.join(folder_path, filename)\n",
    "                model_3d_array[z_idx][y_idx][x_idx] = load_json_file(filepath)\n",
    "\n",
    "    # Convert the Python list (3D array) to a NumPy array with dtype=object\n",
    "    model_3d_numpy_array = np.array(model_3d_array, dtype=object)\n",
    "\n",
    "    return model_3d_numpy_array, folder_mapping\n",
    "\n",
    "# Usage example\n",
    "base_directory = os.getcwd() + \"/json\"  # Set this to the path where your folders (e.g., balanced_10, hybrid_1, etc.) are located\n",
    "model_3d_numpy_array, folder_mapping = create_3d_numpy_array_with_folder_mapping(base_directory)\n",
    "\n",
    "# Print the NumPy array structure and folder mapping to verify\n",
    "print(\"3D Model NumPy Array:\", model_3d_numpy_array.shape)\n",
    "for key, value in folder_mapping.items():\n",
    "    print(key, \":\", value)\n"
   ]
  },
  {
   "cell_type": "code",
   "execution_count": null,
   "metadata": {},
   "outputs": [],
   "source": []
  }
 ],
 "metadata": {
  "kernelspec": {
   "display_name": "base",
   "language": "python",
   "name": "python3"
  },
  "language_info": {
   "codemirror_mode": {
    "name": "ipython",
    "version": 3
   },
   "file_extension": ".py",
   "mimetype": "text/x-python",
   "name": "python",
   "nbconvert_exporter": "python",
   "pygments_lexer": "ipython3",
   "version": "3.11.8"
  }
 },
 "nbformat": 4,
 "nbformat_minor": 2
}
